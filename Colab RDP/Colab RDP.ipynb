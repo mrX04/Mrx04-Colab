{
  "nbformat": 4,
  "nbformat_minor": 0,
  "metadata": {
    "colab": {
      "name": "Colab RDP.ipynb",
      "provenance": [],
      "collapsed_sections": []
    },
    "kernelspec": {
      "name": "python3",
      "display_name": "Python 3"
    }
  },
  "cells": [
    {
      "cell_type": "markdown",
      "metadata": {
        "id": "WiCtBFIJAkwd"
      },
      "source": [
        "Colab RDP : Remote Desktop to Colab Instance use Google Remote Desktop \n",
        "\n",
        "     Warning : IF U USE IT TO MINNING U WILL GET BANNED. \n",
        " **User Password is root**\n",
        "\n",
        " **It can take up to 4-5 min for installation**\n",
        " + XFCE4 Desktop Environment\n",
        " + CrossOver (Run Windows Appication)\n",
        "\n",
        " **How to use CrossOver: Launch Terminal, type sudo su, type password root, drag Crossover  into Terminal and enter (CrossOver need sudo permission to run)* \n",
        " + Chrome and Other tools\n",
        " + Obs-studio (Live-streaming)\n",
        " + VLC Media Player\n",
        "\n",
        "Google Colab can give you Instance with 12GB of RAM and GPU for 12 hours (Max.). Anyone can use it to perform Heavy Tasks\n",
        "\n"
      ]
    },
    {
      "cell_type": "markdown",
      "metadata": {
        "id": "RtoY5SKzwTA7"
      },
      "source": [
        "For GPU: By default colab running without GPU, to enable go to Runtime and change runtime to GPU. I test Steam PC version using Crossover and try install and play game, run as well."
      ]
    },
    {
      "cell_type": "code",
      "metadata": {
        "colab": {
          "base_uri": "https://localhost:8080/"
        },
        "id": "t7F_iIOpAnTl",
        "cellView": "form",
        "outputId": "cb3c0889-945e-4281-cc72-179913158f7e"
      },
      "source": [
        "#@title **LINK UPDATED! Feel free to  use ! First:**\n",
        "#@markdown Play it and wait until finished!\n",
        "! wget https://raw.githubusercontent.com/mrX04/Mrx04-Colab/master/Colab%20RDP/Colab-RDP.sh &> /dev/null\n",
        "! chmod +x Colab-RDP.sh\n",
        "! bash Colab-RDP.sh\n",
        "! sleep 43200"
      ],
      "execution_count": null,
      "outputs": [
        {
          "output_type": "stream",
          "text": [
            "\u001b[H\u001b[2J\u001b[36m\u001b[1m\n",
            "      _____      _       _         _    _            _  \n",
            "     / ____|    | |     | |       | |  | |          | | \n",
            "    | |     ___ | | __ _| |__     | |__| | __ _  ___| | _____ \n",
            "    | |    / _ \\| |/ _` | '_ \\    |  __  |/ _` |/ __| |/ / __|\n",
            "    | |___| (_) | | (_| | |_) |   | |  | | (_| | (__|   <\\__ \\\n",
            "     \\_____\\___/|_|\\__,_|_.__/    |_|  |_|\\__,_|\\___|_|\\_\\___/ \n",
            "    \u001b[31m  By Pradyumna Krishna © 2020 \u001b[36m Mod By Mrx04 V1\n",
            "      Github : https://github.com/PradyumnaKrishna/Colab-Hacks          \n",
            "\u001b[0m\u001b[0m\n",
            "\n",
            "Creating user \ruser created \u001b[0m\u001b[0m\n",
            "Adding user `user' to group `sudo' ...\n",
            "Adding user user to group sudo\n",
            "Done.\n",
            "\n",
            "\n",
            "\u001b[32m\u001b[1m    Installer Loaded \u001b[0m\u001b[0m\n",
            "\n",
            "\u001b[36m\u001b[1m    Chrome Remote Desktop Installed \u001b[0m\u001b[0m\n",
            "\u001b[36m\u001b[1m    Desktop Environment Installed \u001b[0m\u001b[0m\n",
            "\u001b[36m\u001b[1m    Google Chrome Installed \u001b[0m\u001b[0m\n",
            "\u001b[36m\u001b[1m    CrossOver Installed \u001b[0m\u001b[0m\n",
            "\u001b[36m\u001b[1m    OBS-Studio Installed \u001b[0m\u001b[0m\n",
            "\u001b[36m\u001b[1m    VLC Media Player Installed \u001b[0m\u001b[0m\n",
            "\u001b[36m\u001b[1m    Other Tools Installed \u001b[0m\u001b[0m\n",
            "\n",
            "\u001b[32m\u001b[1m    Installation Completed \u001b[0m\u001b[0m\n",
            "\n",
            "Adding user `user' to group `chrome-remote-desktop' ...\n",
            "Adding user user to group chrome-remote-desktop\n",
            "Done.\n",
            "\n",
            "Visit http://remotedesktop.google.com/headless and Copy the command after authentication\n",
            "Paste Command: DISPLAY= /opt/google/chrome-remote-desktop/start-host --code=\"4/0AY0e-g5uRhdsmlJwS2FQEiXQXzq0KVQcvvwFc4BQMtcMJn4q5mnxlQ-1mcE-tBIH5B9BiA\" --redirect-url=\"https://remotedesktop.google.com/_/oauthredirect\" --name=$(hostname)\n",
            "Enter a PIN of at least six digits: \n",
            "Enter the same PIN again: \n",
            "[0121/082358.092626:ERROR:cert_verify_proc_builtin.cc(559)] No net_fetcher for performing AIA chasing.\n",
            "[0121/082358.155444:WARNING:host_config.cc(54)] Failed to read /home/user/.config/chrome-remote-desktop/host#8b0093d23d0d0d5c82feb5ec477c7822.json\n",
            "[0121/082358.309191:ERROR:cert_verify_proc_builtin.cc(559)] No net_fetcher for performing AIA chasing.\n",
            "[0121/082358.831735:INFO:daemon_controller_delegate_linux.cc(99)] 2021-01-21 08:23:58,819:INFO:User 'user' is already a member of 'chrome-remote-desktop'.\n",
            "\n",
            "[0121/082400.676808:INFO:daemon_controller_delegate_linux.cc(99)] [0121/082358.952460:INFO:remoting_user_session.cc(754)] Daemon process started in the background, logging to '/tmp/chrome_remote_desktop_20210121_082358_zZwpAS'\n",
            "Using host_id: ff281e4b-5485-4e0c-bf35-6e2883451ce6\n",
            "Launching X server and X session.\n",
            "Starting Xvfb on display :20\n",
            "X server is active.\n",
            "Launching X session: ['/bin/sh', '/etc/chrome-remote-desktop-session']\n",
            "Launching host process\n",
            "['/opt/google/chrome-remote-desktop/chrome-remote-desktop-host', '--host-config=-', '--audio-pipe-name=/home/user/.config/chrome-remote-desktop/pulseaudio#8b0093d23d/fifo_output', '--server-supports-exact-resize', '--ssh-auth-sockname=/tmp/chromoting.user.ssh_auth_sock', '--signal-parent']\n",
            "Host ready to receive connections.\n",
            "Log file: /tmp/chrome_remote_desktop_20210121_082358_zZwpAS\n",
            "\n",
            "\n",
            "\u001b[36m\u001b[1m I hope everthing done correctly if mistakenly wrote wrong command or pin, Rerun the current box or run command 'su - user -c '<CRP Command Here>' \u001b[0m\u001b[0m\n",
            "\n",
            "\u001b[36m\u001b[1m https://remotedesktop.google.com/access to access your VM, do not close browser tab to keep colab running ' \u001b[0m\u001b[0m\n",
            "\n",
            "\u001b[32m\u001b[1m Finished Succesfully\u001b[0m\u001b[0m"
          ],
          "name": "stdout"
        }
      ]
    },
    {
      "cell_type": "code",
      "metadata": {
        "cellView": "form",
        "id": "JLHA-zydc-gV"
      },
      "source": [
        "#@title **SECOND (Optional):**\r\n",
        "#@markdown Anti shutdown colab (play and keep this colab tab open):\r\n",
        "! sleep 43200"
      ],
      "execution_count": null,
      "outputs": []
    }
  ]
}
