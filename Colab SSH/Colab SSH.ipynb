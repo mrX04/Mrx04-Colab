{
  "nbformat": 4,
  "nbformat_minor": 0,
  "metadata": {
    "kernelspec": {
      "display_name": "Python 3",
      "language": "python",
      "name": "python3"
    },
    "language_info": {
      "codemirror_mode": {
        "name": "ipython",
        "version": 3
      },
      "file_extension": ".py",
      "mimetype": "text/x-python",
      "name": "python",
      "nbconvert_exporter": "python",
      "pygments_lexer": "ipython3",
      "version": "3.7.8"
    },
    "colab": {
      "name": "Colab SSH.ipynb",
      "provenance": [],
      "include_colab_link": true
    }
  },
  "cells": [
    {
      "cell_type": "markdown",
      "metadata": {
        "id": "view-in-github",
        "colab_type": "text"
      },
      "source": [
        "<a href=\"https://colab.research.google.com/github/mrX04/Colab-Hacks/blob/Agro/Colab%20SSH/Colab%20SSH.ipynb\" target=\"_parent\"><img src=\"https://colab.research.google.com/assets/colab-badge.svg\" alt=\"Open In Colab\"/></a>"
      ]
    },
    {
      "cell_type": "markdown",
      "metadata": {
        "id": "Z-_Vo9o428UH"
      },
      "source": [
        "# **Colab SSH** : SSH to Colab Instance (Deprecated)\n",
        "\n",
        "**This notebook is now deprecated use [Colab RDP](https://colab.research.google.com/github/mrX04/Colab-Hacks/blob/master/Colab%20RDP/Colab%20RDP.ipynb) notebook instead**\n",
        "\n",
        "- **NGROK has some problems with colab**\n",
        "- Use Agro\n",
        "\n",
        "There are Two methods of doing same thing :\n",
        " - Using colab_ssh pip library\n",
        " - Manually configuring SSHD\n",
        "\n",
        "Run command on your Local Computer to connect using SSH\n",
        "\n",
        "    ssh root@0.tcp.ngrok.io -p <givenport>\n",
        "\n",
        "And then enter the password\n",
        "\n"
      ]
    },
    {
      "cell_type": "markdown",
      "metadata": {
        "id": "VyYf8fOo6LGp"
      },
      "source": [
        "# Using **colab_ssh** Library"
      ]
    },
    {
      "cell_type": "markdown",
      "metadata": {
        "id": "L4AGsvo97PVc"
      },
      "source": [
        "### Installing colab_ssh Library"
      ]
    },
    {
      "cell_type": "code",
      "metadata": {
        "id": "OAFAZOlU6KKV"
      },
      "source": [
        "!pip install colab_ssh --upgrade"
      ],
      "execution_count": null,
      "outputs": []
    },
    {
      "cell_type": "markdown",
      "metadata": {
        "id": "zsw-msLG7Yhs"
      },
      "source": [
        "### Generate Root Password\n"
      ]
    },
    {
      "cell_type": "code",
      "metadata": {
        "id": "K8B6Plr87kZw"
      },
      "source": [
        "import random, string\n",
        "password = ''.join(random.choice(string.ascii_letters + string.digits) for i in range(20))"
      ],
      "execution_count": null,
      "outputs": []
    },
    {
      "cell_type": "markdown",
      "metadata": {
        "id": "Jx7oCRb676lc"
      },
      "source": [
        "### Launch SSH with Ngrok"
      ]
    },
    {
      "cell_type": "code",
      "metadata": {
        "id": "5Zc67iMO8Hgs"
      },
      "source": [
        "print(\"Copy authtoken from https://dashboard.ngrok.com/auth\")\n",
        "ngrokToken = input(\"Enter Token : \")\n",
        "\n",
        "from colab_ssh import launch_ssh, init_git\n",
        "launch_ssh(ngrokToken, password)\n",
        "\n",
        "# Get Public Address\n",
        "print(\"This notebook is now deprecated use Colab RDP notebook instead\")\n",
        "\n",
        "print(\"Run command : ssh root@\", end='')\n",
        "!curl -s http://localhost:4040/api/tunnels | python3 -c \\\n",
        "    \"import sys, json; print(json.load(sys.stdin)['tunnels'][0]['public_url'][6:].replace(':', ' -p '))\"\n",
        "\n",
        "# Print Password\n",
        "print(\"Password : \", password)"
      ],
      "execution_count": null,
      "outputs": []
    },
    {
      "cell_type": "markdown",
      "metadata": {
        "id": "GfcRwLYm8IL4"
      },
      "source": [
        "### Launch SSH with Agro"
      ]
    },
    {
      "cell_type": "code",
      "metadata": {
        "id": "6gioBfZy8KCl"
      },
      "source": [
        "from colab_ssh import launch_ssh_cloudflared\n",
        "launch_ssh_cloudflared(password=password)\n",
        "\n",
        "print(\"Password : \", password)"
      ],
      "execution_count": null,
      "outputs": []
    },
    {
      "cell_type": "markdown",
      "metadata": {
        "id": "FjpxOlJL-Xrr"
      },
      "source": [
        "# Manually configuring SSHD"
      ]
    },
    {
      "cell_type": "markdown",
      "metadata": {
        "id": "DTnTu2ky28UI"
      },
      "source": [
        "### Generate root password\n"
      ]
    },
    {
      "cell_type": "code",
      "metadata": {
        "id": "jivmK9d028UJ"
      },
      "source": [
        "import random, string\n",
        "password = ''.join(random.choice(string.ascii_letters + string.digits) for i in range(20))"
      ],
      "execution_count": null,
      "outputs": []
    },
    {
      "cell_type": "markdown",
      "metadata": {
        "id": "OxCSsS_j28UN"
      },
      "source": [
        "### Download ngrok"
      ]
    },
    {
      "cell_type": "code",
      "metadata": {
        "id": "pSW5voxl28UN"
      },
      "source": [
        "!wget -q -c -nc https://bin.equinox.io/c/4VmDzA7iaHb/ngrok-stable-linux-amd64.zip\n",
        "!unzip -qq -n ngrok-stable-linux-amd64.zip"
      ],
      "execution_count": null,
      "outputs": []
    },
    {
      "cell_type": "markdown",
      "metadata": {
        "id": "I1tVUKhV28UR"
      },
      "source": [
        "### Setup sshd"
      ]
    },
    {
      "cell_type": "code",
      "metadata": {
        "id": "ZcGXSbv528UR"
      },
      "source": [
        "!apt-get install -qq -o=Dpkg::Use-Pty=0 openssh-server pwgen > /dev/null"
      ],
      "execution_count": null,
      "outputs": []
    },
    {
      "cell_type": "markdown",
      "metadata": {
        "id": "rLCNj9lV28UU"
      },
      "source": [
        "### Set root password"
      ]
    },
    {
      "cell_type": "code",
      "metadata": {
        "id": "vko03dad28UV"
      },
      "source": [
        "! echo root:$password | chpasswd\n",
        "! mkdir -p /var/run/sshd\n",
        "! echo \"PermitRootLogin yes\" >> /etc/ssh/sshd_config\n",
        "! echo \"PasswordAuthentication yes\" >> /etc/ssh/sshd_config\n",
        "! echo \"LD_LIBRARY_PATH=/usr/lib64-nvidia\" >> /root/.bashrc\n",
        "! echo \"export LD_LIBRARY_PATH\" >> /root/.bashrc"
      ],
      "execution_count": null,
      "outputs": []
    },
    {
      "cell_type": "markdown",
      "metadata": {
        "id": "PKAaQCwc28UY"
      },
      "source": [
        "### Run sshd"
      ]
    },
    {
      "cell_type": "code",
      "metadata": {
        "id": "T6jXV1Ug28UZ"
      },
      "source": [
        "get_ipython().system_raw('/usr/sbin/sshd -D &')"
      ],
      "execution_count": null,
      "outputs": []
    },
    {
      "cell_type": "markdown",
      "metadata": {
        "id": "xZElk38D28Uc"
      },
      "source": [
        "### Ask token"
      ]
    },
    {
      "cell_type": "code",
      "metadata": {
        "id": "L6DxzZoe28Uc"
      },
      "source": [
        "print(\"Copy authtoken from https://dashboard.ngrok.com/auth\")\n",
        "import getpass\n",
        "authtoken = getpass.getpass()"
      ],
      "execution_count": null,
      "outputs": []
    },
    {
      "cell_type": "markdown",
      "metadata": {
        "id": "eh64uSgQ28Uf"
      },
      "source": [
        "### Create tunnel"
      ]
    },
    {
      "cell_type": "code",
      "metadata": {
        "id": "KIc_EJdG28Ug"
      },
      "source": [
        "get_ipython().system_raw('./ngrok authtoken $authtoken && ./ngrok tcp 22 &')"
      ],
      "execution_count": null,
      "outputs": []
    },
    {
      "cell_type": "markdown",
      "metadata": {
        "id": "jkzR6frO28Uj"
      },
      "source": [
        "### Print root password"
      ]
    },
    {
      "cell_type": "code",
      "metadata": {
        "id": "-ckyr9C528Uj"
      },
      "source": [
        "print(\"Root password: {}\".format(password))"
      ],
      "execution_count": null,
      "outputs": []
    },
    {
      "cell_type": "markdown",
      "metadata": {
        "id": "ltsz9i4z28Un"
      },
      "source": [
        "### Get public address"
      ]
    },
    {
      "cell_type": "code",
      "metadata": {
        "id": "UVtUigiK28Un"
      },
      "source": [
        "# Get Public Address\n",
        "print(\"This notebook is now deprecated use Colab RDP notebook instead\")\n",
        "\n",
        "print(\"Run command : ssh root@\", end='')\n",
        "!curl -s http://localhost:4040/api/tunnels | python3 -c \\\n",
        "    \"import sys, json; print(json.load(sys.stdin)['tunnels'][0]['public_url'][6:].replace(':', ' -p '))\"\n",
        "\n",
        "# Print Password\n",
        "print(\"Password : \", password)"
      ],
      "execution_count": null,
      "outputs": []
    }
  ]
}